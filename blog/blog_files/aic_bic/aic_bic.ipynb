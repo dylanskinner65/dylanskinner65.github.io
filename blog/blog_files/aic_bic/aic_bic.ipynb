{
 "cells": [
  {
   "cell_type": "code",
   "execution_count": 1,
   "metadata": {},
   "outputs": [],
   "source": [
    "# Import all the necessary things from sklearn.\n",
    "from sklearn.datasets import fetch_california_housing\n",
    "import statsmodels.api as sm\n",
    "\n",
    "# Load in the data. Split into X and y, and make them Pandas dataframes.\n",
    "X, y = fetch_california_housing(return_X_y=True, as_frame=True)"
   ]
  },
  {
   "cell_type": "code",
   "execution_count": 20,
   "metadata": {},
   "outputs": [
    {
     "name": "stdout",
     "output_type": "stream",
     "text": [
      "AIC: 45265.54161\n",
      "BIC: 45336.95649\n"
     ]
    }
   ],
   "source": [
    "# Add a constant to the X matrix, as statsmodels doesn't do that by default.\n",
    "X_sm = sm.add_constant(X)\n",
    "\n",
    "# Initialize our OLS model, and fit the data.\n",
    "model_sm = sm.OLS(y, X_sm)\n",
    "results = model_sm.fit()\n",
    "print(f'AIC: {results.aic.round(5)}')\n",
    "print(f'BIC: {results.bic.round(5)}')"
   ]
  }
 ],
 "metadata": {
  "kernelspec": {
   "display_name": "acme1",
   "language": "python",
   "name": "python3"
  },
  "language_info": {
   "codemirror_mode": {
    "name": "ipython",
    "version": 3
   },
   "file_extension": ".py",
   "mimetype": "text/x-python",
   "name": "python",
   "nbconvert_exporter": "python",
   "pygments_lexer": "ipython3",
   "version": "3.7.16"
  }
 },
 "nbformat": 4,
 "nbformat_minor": 2
}
